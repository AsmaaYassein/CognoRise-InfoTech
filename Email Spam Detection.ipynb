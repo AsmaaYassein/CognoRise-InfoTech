{
 "cells": [
  {
   "cell_type": "code",
   "execution_count": 1,
   "id": "77a0d8bc",
   "metadata": {},
   "outputs": [],
   "source": [
    "import numpy as np\n",
    "import pandas as pd\n",
    "import matplotlib.pyplot as mat\n",
    "\n",
    "import re\n",
    "import nltk\n",
    "from nltk.corpus import stopwords\n",
    "from nltk.stem import WordNetLemmatizer\n",
    "from sklearn.feature_extraction.text import TfidfVectorizer \n",
    "\n",
    "# nltk.download('stopwords')   \n",
    "# nltk.download('punkt')       \n",
    "# nltk.download('wordnet')\n",
    "# nltk.download('omw-1.4')\n",
    "\n",
    "from sklearn.model_selection import train_test_split\n",
    "from sklearn.preprocessing import LabelEncoder\n",
    "\n",
    "\n",
    "from sklearn.linear_model import LogisticRegression\n",
    "from sklearn.naive_bayes import MultinomialNB\n",
    "from sklearn.neighbors import KNeighborsClassifier\n",
    "from sklearn.ensemble import RandomForestClassifier\n",
    "from sklearn.tree import DecisionTreeClassifier\n",
    "from sklearn.ensemble import AdaBoostClassifier\n",
    "\n",
    "from sklearn.metrics import classification_report,confusion_matrix ,accuracy_score , mean_squared_error"
   ]
  },
  {
   "cell_type": "code",
   "execution_count": 2,
   "id": "05919a8a",
   "metadata": {},
   "outputs": [],
   "source": [
    "data=pd.read_csv(r\"D:\\data\\spam.csv\")"
   ]
  },
  {
   "cell_type": "markdown",
   "id": "ccdfcbf2",
   "metadata": {},
   "source": [
    "# EDA"
   ]
  },
  {
   "cell_type": "code",
   "execution_count": 3,
   "id": "d7bcc598",
   "metadata": {},
   "outputs": [
    {
     "data": {
      "text/html": [
       "<div>\n",
       "<style scoped>\n",
       "    .dataframe tbody tr th:only-of-type {\n",
       "        vertical-align: middle;\n",
       "    }\n",
       "\n",
       "    .dataframe tbody tr th {\n",
       "        vertical-align: top;\n",
       "    }\n",
       "\n",
       "    .dataframe thead th {\n",
       "        text-align: right;\n",
       "    }\n",
       "</style>\n",
       "<table border=\"1\" class=\"dataframe\">\n",
       "  <thead>\n",
       "    <tr style=\"text-align: right;\">\n",
       "      <th></th>\n",
       "      <th>Category</th>\n",
       "      <th>Message</th>\n",
       "    </tr>\n",
       "  </thead>\n",
       "  <tbody>\n",
       "    <tr>\n",
       "      <th>5381</th>\n",
       "      <td>spam</td>\n",
       "      <td>You have 1 new message. Call 0207-083-6089</td>\n",
       "    </tr>\n",
       "    <tr>\n",
       "      <th>1887</th>\n",
       "      <td>spam</td>\n",
       "      <td>Dear 0776xxxxxxx U've been invited to XCHAT. T...</td>\n",
       "    </tr>\n",
       "    <tr>\n",
       "      <th>5540</th>\n",
       "      <td>spam</td>\n",
       "      <td>ASKED 3MOBILE IF 0870 CHATLINES INCLU IN FREE ...</td>\n",
       "    </tr>\n",
       "    <tr>\n",
       "      <th>1909</th>\n",
       "      <td>ham</td>\n",
       "      <td>Hello beautiful r u ok? I've kinda ad a row wi...</td>\n",
       "    </tr>\n",
       "    <tr>\n",
       "      <th>1063</th>\n",
       "      <td>ham</td>\n",
       "      <td>Ok. Not sure what time tho as not sure if can ...</td>\n",
       "    </tr>\n",
       "  </tbody>\n",
       "</table>\n",
       "</div>"
      ],
      "text/plain": [
       "     Category                                            Message\n",
       "5381     spam         You have 1 new message. Call 0207-083-6089\n",
       "1887     spam  Dear 0776xxxxxxx U've been invited to XCHAT. T...\n",
       "5540     spam  ASKED 3MOBILE IF 0870 CHATLINES INCLU IN FREE ...\n",
       "1909      ham  Hello beautiful r u ok? I've kinda ad a row wi...\n",
       "1063      ham  Ok. Not sure what time tho as not sure if can ..."
      ]
     },
     "execution_count": 3,
     "metadata": {},
     "output_type": "execute_result"
    }
   ],
   "source": [
    "data.sample(5)"
   ]
  },
  {
   "cell_type": "code",
   "execution_count": 4,
   "id": "534b7ffa",
   "metadata": {},
   "outputs": [
    {
     "data": {
      "text/plain": [
       "(5572, 2)"
      ]
     },
     "execution_count": 4,
     "metadata": {},
     "output_type": "execute_result"
    }
   ],
   "source": [
    "data.shape"
   ]
  },
  {
   "cell_type": "code",
   "execution_count": 5,
   "id": "6d70ec49",
   "metadata": {},
   "outputs": [
    {
     "name": "stdout",
     "output_type": "stream",
     "text": [
      "<class 'pandas.core.frame.DataFrame'>\n",
      "RangeIndex: 5572 entries, 0 to 5571\n",
      "Data columns (total 2 columns):\n",
      " #   Column    Non-Null Count  Dtype \n",
      "---  ------    --------------  ----- \n",
      " 0   Category  5572 non-null   object\n",
      " 1   Message   5572 non-null   object\n",
      "dtypes: object(2)\n",
      "memory usage: 87.2+ KB\n"
     ]
    }
   ],
   "source": [
    "data.info()"
   ]
  },
  {
   "cell_type": "code",
   "execution_count": 6,
   "id": "eb3908f2",
   "metadata": {},
   "outputs": [
    {
     "data": {
      "text/html": [
       "<div>\n",
       "<style scoped>\n",
       "    .dataframe tbody tr th:only-of-type {\n",
       "        vertical-align: middle;\n",
       "    }\n",
       "\n",
       "    .dataframe tbody tr th {\n",
       "        vertical-align: top;\n",
       "    }\n",
       "\n",
       "    .dataframe thead th {\n",
       "        text-align: right;\n",
       "    }\n",
       "</style>\n",
       "<table border=\"1\" class=\"dataframe\">\n",
       "  <thead>\n",
       "    <tr style=\"text-align: right;\">\n",
       "      <th></th>\n",
       "      <th>Category</th>\n",
       "      <th>Message</th>\n",
       "    </tr>\n",
       "  </thead>\n",
       "  <tbody>\n",
       "    <tr>\n",
       "      <th>count</th>\n",
       "      <td>5572</td>\n",
       "      <td>5572</td>\n",
       "    </tr>\n",
       "    <tr>\n",
       "      <th>unique</th>\n",
       "      <td>2</td>\n",
       "      <td>5157</td>\n",
       "    </tr>\n",
       "    <tr>\n",
       "      <th>top</th>\n",
       "      <td>ham</td>\n",
       "      <td>Sorry, I'll call later</td>\n",
       "    </tr>\n",
       "    <tr>\n",
       "      <th>freq</th>\n",
       "      <td>4825</td>\n",
       "      <td>30</td>\n",
       "    </tr>\n",
       "  </tbody>\n",
       "</table>\n",
       "</div>"
      ],
      "text/plain": [
       "       Category                 Message\n",
       "count      5572                    5572\n",
       "unique        2                    5157\n",
       "top         ham  Sorry, I'll call later\n",
       "freq       4825                      30"
      ]
     },
     "execution_count": 6,
     "metadata": {},
     "output_type": "execute_result"
    }
   ],
   "source": [
    "data.describe(include=\"object\")"
   ]
  },
  {
   "cell_type": "code",
   "execution_count": 7,
   "id": "8e75be7b",
   "metadata": {},
   "outputs": [
    {
     "data": {
      "text/plain": [
       "Category    0\n",
       "Message     0\n",
       "dtype: int64"
      ]
     },
     "execution_count": 7,
     "metadata": {},
     "output_type": "execute_result"
    }
   ],
   "source": [
    "data.isna().sum()"
   ]
  },
  {
   "cell_type": "code",
   "execution_count": 8,
   "id": "94ad2736",
   "metadata": {},
   "outputs": [
    {
     "data": {
      "text/plain": [
       "415"
      ]
     },
     "execution_count": 8,
     "metadata": {},
     "output_type": "execute_result"
    }
   ],
   "source": [
    "data.duplicated().sum()"
   ]
  },
  {
   "cell_type": "code",
   "execution_count": 9,
   "id": "8495a857",
   "metadata": {},
   "outputs": [],
   "source": [
    "data=data.drop_duplicates(keep = 'first')"
   ]
  },
  {
   "cell_type": "code",
   "execution_count": 10,
   "id": "1bd1880f",
   "metadata": {},
   "outputs": [
    {
     "data": {
      "text/plain": [
       "0"
      ]
     },
     "execution_count": 10,
     "metadata": {},
     "output_type": "execute_result"
    }
   ],
   "source": [
    "data.duplicated().sum()"
   ]
  },
  {
   "cell_type": "code",
   "execution_count": 18,
   "id": "0712fc96",
   "metadata": {},
   "outputs": [
    {
     "data": {
      "image/png": "[encoded data removed]",
      "text/plain": [
       "<Figure size 640x480 with 1 Axes>"
      ]
     },
     "metadata": {},
     "output_type": "display_data"
    }
   ],
   "source": [
    "category_counts = data['Category'].value_counts()\n",
    "mat.pie(category_counts, labels=category_counts.index, autopct='%1.1f%%', startangle=90)\n",
    "mat.show()"
   ]
  },
  {
   "cell_type": "markdown",
   "id": "4d5ecb9e",
   "metadata": {},
   "source": [
    "# Message preprocessing "
   ]
  },
  {
   "cell_type": "code",
   "execution_count": 19,
   "id": "0ab7ca27",
   "metadata": {},
   "outputs": [],
   "source": [
    "lemma= WordNetLemmatizer()\n",
    "\n",
    "def preprocess_text(text):\n",
    "    text = re.sub('[^a-zA-Z0-9]', ' ', text)\n",
    "    text = text.lower()\n",
    "    words = text.split()\n",
    "    words = [lemma.lemmatize(word) for word in words if word not in set(stopwords.words('english'))]\n",
    "    return ' '.join(words)\n",
    "\n",
    "\n",
    "data['Cleaned_Message'] = data['Message'].apply(preprocess_text)"
   ]
  },
  {
   "cell_type": "code",
   "execution_count": 20,
   "id": "fbd071ed",
   "metadata": {},
   "outputs": [
    {
     "data": {
      "text/html": [
       "<div>\n",
       "<style scoped>\n",
       "    .dataframe tbody tr th:only-of-type {\n",
       "        vertical-align: middle;\n",
       "    }\n",
       "\n",
       "    .dataframe tbody tr th {\n",
       "        vertical-align: top;\n",
       "    }\n",
       "\n",
       "    .dataframe thead th {\n",
       "        text-align: right;\n",
       "    }\n",
       "</style>\n",
       "<table border=\"1\" class=\"dataframe\">\n",
       "  <thead>\n",
       "    <tr style=\"text-align: right;\">\n",
       "      <th></th>\n",
       "      <th>Category</th>\n",
       "      <th>Message</th>\n",
       "      <th>Cleaned_Message</th>\n",
       "    </tr>\n",
       "  </thead>\n",
       "  <tbody>\n",
       "    <tr>\n",
       "      <th>134</th>\n",
       "      <td>spam</td>\n",
       "      <td>Sunshine Quiz Wkly Q! Win a top Sony DVD playe...</td>\n",
       "      <td>sunshine quiz wkly q win top sony dvd player u...</td>\n",
       "    </tr>\n",
       "    <tr>\n",
       "      <th>2928</th>\n",
       "      <td>ham</td>\n",
       "      <td>Ok... U enjoy ur shows...</td>\n",
       "      <td>ok u enjoy ur show</td>\n",
       "    </tr>\n",
       "    <tr>\n",
       "      <th>502</th>\n",
       "      <td>ham</td>\n",
       "      <td>When can ü come out?</td>\n",
       "      <td>come</td>\n",
       "    </tr>\n",
       "    <tr>\n",
       "      <th>4682</th>\n",
       "      <td>ham</td>\n",
       "      <td>Are you staying in town ?</td>\n",
       "      <td>staying town</td>\n",
       "    </tr>\n",
       "    <tr>\n",
       "      <th>3652</th>\n",
       "      <td>ham</td>\n",
       "      <td>Want to send me a virtual hug?... I need one</td>\n",
       "      <td>want send virtual hug need one</td>\n",
       "    </tr>\n",
       "  </tbody>\n",
       "</table>\n",
       "</div>"
      ],
      "text/plain": [
       "     Category                                            Message  \\\n",
       "134      spam  Sunshine Quiz Wkly Q! Win a top Sony DVD playe...   \n",
       "2928      ham                          Ok... U enjoy ur shows...   \n",
       "502       ham                               When can ü come out?   \n",
       "4682      ham                          Are you staying in town ?   \n",
       "3652      ham       Want to send me a virtual hug?... I need one   \n",
       "\n",
       "                                        Cleaned_Message  \n",
       "134   sunshine quiz wkly q win top sony dvd player u...  \n",
       "2928                                 ok u enjoy ur show  \n",
       "502                                                come  \n",
       "4682                                       staying town  \n",
       "3652                     want send virtual hug need one  "
      ]
     },
     "execution_count": 20,
     "metadata": {},
     "output_type": "execute_result"
    }
   ],
   "source": [
    "data.sample(5)"
   ]
  },
  {
   "cell_type": "markdown",
   "id": "0c54de19",
   "metadata": {},
   "source": [
    "# TF-IDF Metric"
   ]
  },
  {
   "cell_type": "code",
   "execution_count": 21,
   "id": "49919c6c",
   "metadata": {},
   "outputs": [],
   "source": [
    "tfidf_vectorizer = TfidfVectorizer(max_features=2500, ngram_range=(1, 3))\n",
    "tfidf_matrix = tfidf_vectorizer.fit_transform(data['Cleaned_Message'])"
   ]
  },
  {
   "cell_type": "markdown",
   "id": "0d0fcdb0",
   "metadata": {},
   "source": [
    "#  Category label encoder"
   ]
  },
  {
   "cell_type": "code",
   "execution_count": 22,
   "id": "60f35d6f",
   "metadata": {},
   "outputs": [],
   "source": [
    "label=LabelEncoder()\n",
    "y=label.fit_transform(data[\"Category\"])"
   ]
  },
  {
   "cell_type": "markdown",
   "id": "225c805e",
   "metadata": {},
   "source": [
    "# Splitng the data"
   ]
  },
  {
   "cell_type": "code",
   "execution_count": 23,
   "id": "170520fa",
   "metadata": {},
   "outputs": [],
   "source": [
    "X_train, X_test, y_train, y_test = train_test_split(tfidf_matrix, y, test_size=0.2, random_state=42)"
   ]
  },
  {
   "cell_type": "markdown",
   "id": "cf515a92",
   "metadata": {},
   "source": [
    "# models and evaluation"
   ]
  },
  {
   "cell_type": "code",
   "execution_count": 43,
   "id": "74624cf2",
   "metadata": {
    "scrolled": false
   },
   "outputs": [
    {
     "name": "stdout",
     "output_type": "stream",
     "text": [
      "Naive\n",
      "# Accuracy ---> 98.15891472868216\n",
      "# mean_squared_error---> 0.018410852713178296\n",
      "# classification_report: \n",
      "               precision    recall  f1-score   support\n",
      "\n",
      "           0       0.98      1.00      0.99       896\n",
      "           1       0.99      0.87      0.93       136\n",
      "\n",
      "    accuracy                           0.98      1032\n",
      "   macro avg       0.99      0.93      0.96      1032\n",
      "weighted avg       0.98      0.98      0.98      1032\n",
      "\n",
      "# confusion_matrix:  \n",
      " [[895   1]\n",
      " [ 18 118]]\n",
      "***************************************************************\n",
      "Logistic Regression\n",
      "# Accuracy ---> 96.60852713178295\n",
      "# mean_squared_error---> 0.03391472868217054\n",
      "# classification_report: \n",
      "               precision    recall  f1-score   support\n",
      "\n",
      "           0       0.97      1.00      0.98       896\n",
      "           1       0.96      0.77      0.86       136\n",
      "\n",
      "    accuracy                           0.97      1032\n",
      "   macro avg       0.96      0.88      0.92      1032\n",
      "weighted avg       0.97      0.97      0.96      1032\n",
      "\n",
      "# confusion_matrix:  \n",
      " [[892   4]\n",
      " [ 31 105]]\n",
      "***************************************************************\n",
      "KNN\n",
      "# Accuracy ---> 91.66666666666666\n",
      "# mean_squared_error---> 0.08333333333333333\n",
      "# classification_report: \n",
      "               precision    recall  f1-score   support\n",
      "\n",
      "           0       0.91      1.00      0.95       896\n",
      "           1       1.00      0.37      0.54       136\n",
      "\n",
      "    accuracy                           0.92      1032\n",
      "   macro avg       0.96      0.68      0.75      1032\n",
      "weighted avg       0.92      0.92      0.90      1032\n",
      "\n",
      "# confusion_matrix:  \n",
      " [[896   0]\n",
      " [ 86  50]]\n",
      "***************************************************************\n",
      "Decision Tree\n",
      "# Accuracy ---> 96.99612403100775\n",
      "# mean_squared_error---> 0.030038759689922482\n",
      "# classification_report: \n",
      "               precision    recall  f1-score   support\n",
      "\n",
      "           0       0.97      0.99      0.98       896\n",
      "           1       0.95      0.82      0.88       136\n",
      "\n",
      "    accuracy                           0.97      1032\n",
      "   macro avg       0.96      0.90      0.93      1032\n",
      "weighted avg       0.97      0.97      0.97      1032\n",
      "\n",
      "# confusion_matrix:  \n",
      " [[890   6]\n",
      " [ 25 111]]\n",
      "***************************************************************\n",
      "Random Forest\n",
      "# Accuracy ---> 98.15891472868216\n",
      "# mean_squared_error---> 0.018410852713178296\n",
      "# classification_report: \n",
      "               precision    recall  f1-score   support\n",
      "\n",
      "           0       0.98      1.00      0.99       896\n",
      "           1       0.99      0.87      0.93       136\n",
      "\n",
      "    accuracy                           0.98      1032\n",
      "   macro avg       0.99      0.93      0.96      1032\n",
      "weighted avg       0.98      0.98      0.98      1032\n",
      "\n",
      "# confusion_matrix:  \n",
      " [[895   1]\n",
      " [ 18 118]]\n",
      "***************************************************************\n"
     ]
    },
    {
     "name": "stderr",
     "output_type": "stream",
     "text": [
      "C:\\Users\\p&p\\AppData\\Roaming\\Python\\Python39\\site-packages\\sklearn\\ensemble\\_weight_boosting.py:527: FutureWarning:\n",
      "\n",
      "The SAMME.R algorithm (the default) is deprecated and will be removed in 1.6. Use the SAMME algorithm to circumvent this warning.\n",
      "\n"
     ]
    },
    {
     "name": "stdout",
     "output_type": "stream",
     "text": [
      "AdaBoost\n",
      "# Accuracy ---> 97.38372093023256\n",
      "# mean_squared_error---> 0.02616279069767442\n",
      "# classification_report: \n",
      "               precision    recall  f1-score   support\n",
      "\n",
      "           0       0.98      0.99      0.99       896\n",
      "           1       0.93      0.87      0.90       136\n",
      "\n",
      "    accuracy                           0.97      1032\n",
      "   macro avg       0.95      0.93      0.94      1032\n",
      "weighted avg       0.97      0.97      0.97      1032\n",
      "\n",
      "# confusion_matrix:  \n",
      " [[887   9]\n",
      " [ 18 118]]\n",
      "***************************************************************\n"
     ]
    }
   ],
   "source": [
    "dic={\n",
    "\"Naive\":MultinomialNB(),\n",
    "\"Logistic Regression\":LogisticRegression(random_state=0),\n",
    "\"KNN\":KNeighborsClassifier(n_neighbors=5),\n",
    "\"Decision Tree\":DecisionTreeClassifier(random_state=0,max_depth=8),\n",
    "\"Random Forest\":RandomForestClassifier(random_state=0),\n",
    "\"AdaBoost\":AdaBoostClassifier(random_state=0),\n",
    "}\n",
    "\n",
    "for name ,i in dic.items():\n",
    "    i.fit(X_train, y_train)\n",
    "    y_pred = i.predict(X_test)\n",
    "    print(name)\n",
    "    print(\"# Accuracy --->\",  accuracy_score(y_test, y_pred)*100)\n",
    "    print(\"# mean_squared_error--->\",mean_squared_error(y_test, y_pred))\n",
    "    print(\"# classification_report: \\n\",classification_report(y_test, y_pred))\n",
    "    print(\"# confusion_matrix:  \\n\",confusion_matrix(y_test, y_pred))\n",
    "    print(\"***************************************************************\")\n",
    "\n"
   ]
  },
  {
   "cell_type": "code",
   "execution_count": null,
   "id": "20d3a70e",
   "metadata": {},
   "outputs": [],
   "source": []
  },
  {
   "cell_type": "code",
   "execution_count": null,
   "id": "27ee0203",
   "metadata": {},
   "outputs": [],
   "source": []
  },
  {
   "cell_type": "code",
   "execution_count": null,
   "id": "9dc23314",
   "metadata": {},
   "outputs": [],
   "source": []
  }
 ],
 "metadata": {
  "kernelspec": {
   "display_name": "Python 3 (ipykernel)",
   "language": "python",
   "name": "python3"
  },
  "language_info": {
   "codemirror_mode": {
    "name": "ipython",
    "version": 3
   },
   "file_extension": ".py",
   "mimetype": "text/x-python",
   "name": "python",
   "nbconvert_exporter": "python",
   "pygments_lexer": "ipython3",
   "version": "3.9.13"
  }
 },
 "nbformat": 4,
 "nbformat_minor": 5
}
